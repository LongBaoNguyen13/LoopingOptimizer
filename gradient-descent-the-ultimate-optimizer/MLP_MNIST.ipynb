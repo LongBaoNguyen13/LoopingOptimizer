{
 "cells": [
  {
   "cell_type": "code",
   "execution_count": 1,
   "id": "initial_id",
   "metadata": {
    "collapsed": true,
    "ExecuteTime": {
     "end_time": "2023-09-18T08:30:42.975620555Z",
     "start_time": "2023-09-18T08:30:41.165049746Z"
    }
   },
   "outputs": [],
   "source": [
    "import math\n",
    "import torch\n",
    "import torchvision\n",
    "import torch.nn as nn\n",
    "import torch.nn.functional as F"
   ]
  },
  {
   "cell_type": "code",
   "execution_count": 3,
   "outputs": [],
   "source": [
    "class MNIST_FullyConnected(nn.Module):\n",
    "    \"\"\"\n",
    "    A fully-connected NN for the MNIST task. This is Optimizable but not itself an optimizer\n",
    "    \"\"\"\n",
    "    def __init__(self, num_inp, num_hid, num_out):\n",
    "        super(MNIST_FullyConnected, self).__init__()\n",
    "        self.layer1 = nn.Linear(num_inp, num_hid)\n",
    "        self.layer2 = nn.Linear(num_hid, num_out)\n",
    "        \n",
    "    def initialize(self):\n",
    "        nn.init.kaiming_uniform_(self.layer1.weight, a=math.sqrt(5))\n",
    "        nn.init.kaiming_uniform_(self.layer2.weight, a=math.sqrt(5))\n",
    "        \n",
    "    def forward(self, x):\n",
    "        \"\"\"Compute a prediction\"\"\"\n",
    "        x = self.layer1(x)\n",
    "        x = torch.tanh(x)\n",
    "        x = self.layer2(x)\n",
    "        x = torch.tanh(x)\n",
    "        x = F.log_softmax(x, dim=1)\n",
    "        return x\n",
    "    \n",
    "BATCH_SIZE = 256\n",
    "EPOCHS = 5\n",
    "DEVICE = 'cuda' if torch.cuda.is_available() else 'cpu'\n",
    "    \n",
    "mnist_train = torchvision.datasets.MNIST('./data', train=True, download=True, transform=torchvision.transforms.ToTensor())\n",
    "mnist_test = torchvision.datasets.MNIST('./data', train=False, download=True, transform=torchvision.transforms.ToTensor())\n",
    "dl_train = torch.utils.data.DataLoader(mnist_train, batch_size=BATCH_SIZE, shuffle=True)\n",
    "dl_test = torch.utils.data.DataLoader(mnist_test, batch_size=10000, shuffle=True)\n",
    "    \n",
    "model = MNIST_FullyConnected(28 * 28, 120, 10).to(DEVICE)"
   ],
   "metadata": {
    "collapsed": false,
    "ExecuteTime": {
     "end_time": "2023-09-18T08:44:31.558369077Z",
     "start_time": "2023-09-18T08:44:31.501112326Z"
    }
   },
   "id": "12095d713af4991f"
  },
  {
   "cell_type": "code",
   "execution_count": 6,
   "outputs": [],
   "source": [
    "from gradient_descent_the_ultimate_optimizer import gdtuo\n",
    "\n",
    "optim = gdtuo.Adam(optimizer=gdtuo.SGD(1e-5))"
   ],
   "metadata": {
    "collapsed": false,
    "ExecuteTime": {
     "end_time": "2023-09-18T08:47:27.869583661Z",
     "start_time": "2023-09-18T08:47:27.821427176Z"
    }
   },
   "id": "77fc2c893aa074ac"
  },
  {
   "cell_type": "code",
   "execution_count": 7,
   "outputs": [],
   "source": [
    "mw = gdtuo.ModuleWrapper(model, optimizer=optim)\n",
    "mw.initialize()"
   ],
   "metadata": {
    "collapsed": false,
    "ExecuteTime": {
     "end_time": "2023-09-18T08:48:20.552680278Z",
     "start_time": "2023-09-18T08:48:20.485614259Z"
    }
   },
   "id": "b800496efa127ffe"
  },
  {
   "cell_type": "code",
   "execution_count": 9,
   "outputs": [
    {
     "name": "stderr",
     "output_type": "stream",
     "text": [
      "/home/ubuntu/anaconda3/lib/python3.10/site-packages/torch/autograd/__init__.py:200: UserWarning: Using backward() with create_graph=True will create a reference cycle between the parameter and its gradient which can cause a memory leak. We recommend using autograd.grad when creating the graph to avoid this. If you have to use this function, make sure to reset the .grad fields of your parameters to None after use to break the cycle and avoid the leak. (Triggered internally at /opt/conda/conda-bld/pytorch_1682343967769/work/torch/csrc/autograd/engine.cpp:1151.)\n",
      "  Variable._execution_engine.run_backward(  # Calls into the C++ engine to run the backward pass\n"
     ]
    },
    {
     "name": "stdout",
     "output_type": "stream",
     "text": [
      "EPOCH: 1, TRAIN LOSS: 1.0296424819946288\n",
      "EPOCH: 2, TRAIN LOSS: 0.8978241515159607\n",
      "EPOCH: 3, TRAIN LOSS: 0.8715619558016459\n",
      "EPOCH: 4, TRAIN LOSS: 0.8560297587394714\n",
      "EPOCH: 5, TRAIN LOSS: 0.8476277843475342\n"
     ]
    }
   ],
   "source": [
    "for i in range(1, EPOCHS+1):\n",
    "    running_loss = 0.0\n",
    "    for j, (features_, labels_) in enumerate(dl_train):\n",
    "        mw.begin() # call this before each step, enables gradient tracking on desired params\n",
    "        features, labels = torch.reshape(features_, (-1, 28 * 28)).to(DEVICE), labels_.to(DEVICE)\n",
    "        pred = mw.forward(features)\n",
    "        loss = F.nll_loss(pred, labels)\n",
    "        mw.zero_grad()\n",
    "        loss.backward(create_graph=True) # important! use create_graph=True\n",
    "        mw.step()\n",
    "        running_loss += loss.item() * features_.size(0)\n",
    "    train_loss = running_loss / len(dl_train.dataset)\n",
    "    print(\"EPOCH: {}, TRAIN LOSS: {}\".format(i, train_loss))"
   ],
   "metadata": {
    "collapsed": false,
    "ExecuteTime": {
     "end_time": "2023-09-18T08:54:33.861112991Z",
     "start_time": "2023-09-18T08:54:11.249187790Z"
    }
   },
   "id": "b6a319f35a35e945"
  }
 ],
 "metadata": {
  "kernelspec": {
   "display_name": "Python 3",
   "language": "python",
   "name": "python3"
  },
  "language_info": {
   "codemirror_mode": {
    "name": "ipython",
    "version": 2
   },
   "file_extension": ".py",
   "mimetype": "text/x-python",
   "name": "python",
   "nbconvert_exporter": "python",
   "pygments_lexer": "ipython2",
   "version": "2.7.6"
  }
 },
 "nbformat": 4,
 "nbformat_minor": 5
}
